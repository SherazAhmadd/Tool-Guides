{
 "cells": [
  {
   "cell_type": "markdown",
   "id": "438c6919",
   "metadata": {},
   "source": [
    "# Contains All query command of SQL\n"
   ]
  },
  {
   "cell_type": "markdown",
   "id": "e2abe663",
   "metadata": {},
   "source": [
    "\" **show databases;** \" for displaying how many DB in DBMS"
   ]
  },
  {
   "cell_type": "markdown",
   "id": "9e048db5",
   "metadata": {},
   "source": [
    "\"**create database sheryyDB;** \" for creating new DataBase in DBMS"
   ]
  },
  {
   "cell_type": "markdown",
   "id": "f44a4557",
   "metadata": {},
   "source": [
    "\" **use sheryyDB** \" for selecting the database where we want to manipulation"
   ]
  },
  {
   "cell_type": "markdown",
   "id": "bcc5186f",
   "metadata": {},
   "source": [
    "\" **Show tables;** \" for displaying the tables in DB"
   ]
  },
  {
   "cell_type": "markdown",
   "id": "4a2ac5a5",
   "metadata": {},
   "source": [
    "\" **create table table_name (id int, name varchar(50), city varchar(50));** \" for creating the table in DB"
   ]
  },
  {
   "cell_type": "markdown",
   "id": "3dac15cd",
   "metadata": {},
   "source": [
    "\" **desc table_name;** \" for describing the table it show the datatypes of field/atributes"
   ]
  },
  {
   "cell_type": "markdown",
   "id": "2c0d1c37",
   "metadata": {},
   "source": [
    "\" **insert into students(roll_no, name, age, city)\n",
    "     values(526434,'sheryy',21,'sgd');** \" for inserting the data into records"
   ]
  },
  {
   "cell_type": "markdown",
   "id": "214a6e30",
   "metadata": {},
   "source": [
    "\" __select *from table_name;__ \" for showing the actual data"
   ]
  },
  {
   "cell_type": "markdown",
   "id": "a3478ab4",
   "metadata": {},
   "source": [
    "\" **select name from students** \" for accessing particular field from the table in DB"
   ]
  },
  {
   "cell_type": "markdown",
   "id": "acd17659",
   "metadata": {},
   "source": [
    "\" **select age from students where age >20;** \"Applying above command but with condition"
   ]
  },
  {
   "cell_type": "markdown",
   "id": "df442ac3",
   "metadata": {},
   "source": [
    "\"**alter table students add column country varchar(50);** \" Adding the new column in table"
   ]
  },
  {
   "cell_type": "markdown",
   "id": "ccd3313d",
   "metadata": {},
   "source": [
    "\" **alter table students drop country;** \" Removing the column from table"
   ]
  },
  {
   "cell_type": "markdown",
   "id": "d3bbd57c",
   "metadata": {},
   "source": [
    "\" **update students set country = \"Pakistan\";** setting the data into new column"
   ]
  },
  {
   "cell_type": "markdown",
   "id": "279adf63",
   "metadata": {},
   "source": [
    "\" **update students set country = \"pakistan\" where age = 21;** \" setting data in particular record/row"
   ]
  },
  {
   "cell_type": "markdown",
   "id": "1c2a06b9",
   "metadata": {},
   "source": [
    "\" **update hostel set rent = \"5000\" where ID in (1,2,3,4);** \" setting data in multiple columns with IN constarint "
   ]
  },
  {
   "cell_type": "markdown",
   "id": "67d1547c",
   "metadata": {},
   "source": [
    "\" **delete from students where country = \"usa\";** \" Deleting the whole record from table"
   ]
  },
  {
   "cell_type": "markdown",
   "id": "37e7a44a",
   "metadata": {},
   "source": [
    "\" **alter table students add email varchar(50) after age;** \" Adding column into table but in specific place"
   ]
  },
  {
   "cell_type": "markdown",
   "id": "eec0d438",
   "metadata": {},
   "source": [
    "\" **alter table student change column age umar int;** \" changing the column/field name"
   ]
  },
  {
   "cell_type": "markdown",
   "id": "6d6b7094",
   "metadata": {},
   "source": [
    "### Distinct function in SQL"
   ]
  },
  {
   "cell_type": "markdown",
   "id": "218c2375",
   "metadata": {},
   "source": [
    "\" **select distinct country from students;** \" for displaying All unique Values in table"
   ]
  },
  {
   "cell_type": "markdown",
   "id": "38afcbc6",
   "metadata": {},
   "source": [
    "### Constrainst in SQL\n",
    "- Specify the condition for data in table based on field setting\n",
    "1) not null\n",
    " - we will not have any null value \n",
    "2) Unique\n",
    " - ALl Values in column are unique\n",
    "3) primary key\n",
    " - combination of Not Null and Unique \n",
    " - uniquely identified each row in table e.g:Id,roll_no\n",
    "4) foreign key\n",
    " - Uniquely Identified\n",
    "5) Check \n",
    " - Ensure that all values specify the conditions\n",
    "6) Default\n",
    " - set default Value for all (eg: total score=100)\n",
    "7) index\n",
    " - create and retrieve quickly from database"
   ]
  },
  {
   "cell_type": "markdown",
   "id": "e5b1268b",
   "metadata": {},
   "source": [
    "1) - Not Null    \n",
    "\n",
    "\" **create table country(id int not null,name varchar(50),\n",
    "    -> age int,\n",
    "    -> national varchar(50));** \" indicating not null function where we don't want null values\n"
   ]
  },
  {
   "cell_type": "markdown",
   "id": "e3b9b1cb",
   "metadata": {},
   "source": [
    "\" **alter table country modify age int not null;** \" if you want to change into not null of existing field "
   ]
  },
  {
   "cell_type": "markdown",
   "id": "a28a7699",
   "metadata": {},
   "source": [
    "2) - Unique\n",
    "\n",
    " \" **create table country(id int unique,name varchar(50),\n",
    "    -> age int,\n",
    "    -> national varchar(50));** \" indicating unique function where we want only unique Values\n",
    "\n",
    "\" **alter table country modify age int unique;** \" if you want to change into unique an existing field"
   ]
  },
  {
   "cell_type": "markdown",
   "id": "24f7a238",
   "metadata": {},
   "source": [
    "3) - Primary key\n",
    "\n",
    "\" **create table country(id int not null unique,name varchar(50), -> age int, -> national varchar(50));** \" indicating unique and not null function to change the field into Primary key\n",
    "\n",
    "also can use alter key"
   ]
  },
  {
   "cell_type": "markdown",
   "id": "0a2e276e",
   "metadata": {},
   "source": [
    "\"**alter table country drop index age;** \" removing constraint(pri,unique,etc) from the table"
   ]
  },
  {
   "cell_type": "markdown",
   "id": "5c50319f",
   "metadata": {},
   "source": [
    "4) - Check\n",
    "\n",
    "**create table student (id int not null unique,name varchar(50),age int,check (age>=18));**\n",
    "    \n",
    "    basically it put a conditon on your record if age is greater than 18 then you can add your info in the table otherwise it does'nt allow"
   ]
  },
  {
   "cell_type": "markdown",
   "id": "de53f0d4",
   "metadata": {},
   "source": [
    "5) - Default\n",
    "\" **create table uni(id int not null unique, name varchar(50) unique,sem int default '5',dep varchar(50) check (dep=\"BNB\"));** \" use default constraints to set the value for every record by default"
   ]
  },
  {
   "cell_type": "markdown",
   "id": "9e3fd30e",
   "metadata": {},
   "source": [
    "6) - index\n",
    "\"**create index index_number on uni(id);** \" create an index on specific column"
   ]
  },
  {
   "cell_type": "markdown",
   "id": "c9908637",
   "metadata": {},
   "source": [
    "### LIKE operator\n",
    "\n",
    "\" __select *from hostel where NAME like (\"B%\");__ \" it shows us all name which start from B letter\n"
   ]
  },
  {
   "cell_type": "markdown",
   "id": "4aec43c2",
   "metadata": {},
   "source": [
    "\" __select *from hostel where NAME like(\"Bil%\");__ it shows all name where first three letter \"BIL\" "
   ]
  },
  {
   "cell_type": "markdown",
   "id": "e72a127b",
   "metadata": {},
   "source": [
    "\" **select *from hostel where NAME like(\"_____\");\"** if we unknown any letter in name we can put \"underscore\" and mysql enviroment provide access to unknown letter also show full name "
   ]
  },
  {
   "cell_type": "markdown",
   "id": "539193a7",
   "metadata": {},
   "source": []
  },
  {
   "cell_type": "code",
   "execution_count": null,
   "id": "2ecc44ed",
   "metadata": {},
   "outputs": [],
   "source": []
  }
 ],
 "metadata": {
  "kernelspec": {
   "display_name": "Python 3 (ipykernel)",
   "language": "python",
   "name": "python3"
  },
  "language_info": {
   "codemirror_mode": {
    "name": "ipython",
    "version": 3
   },
   "file_extension": ".py",
   "mimetype": "text/x-python",
   "name": "python",
   "nbconvert_exporter": "python",
   "pygments_lexer": "ipython3",
   "version": "3.11.3"
  }
 },
 "nbformat": 4,
 "nbformat_minor": 5
}
